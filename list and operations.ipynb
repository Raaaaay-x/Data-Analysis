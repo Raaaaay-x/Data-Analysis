{
 "cells": [
  {
   "cell_type": "code",
   "execution_count": null,
   "id": "51537be5-5de9-4b60-88aa-e0f7fa8cf055",
   "metadata": {},
   "outputs": [],
   "source": [
    "#contents\n",
    "    #list types and operations\n",
    "    #subsetting list, list slicing and mnipulating list"
   ]
  },
  {
   "cell_type": "code",
   "execution_count": 178,
   "id": "0f074bcf-f1db-417a-8f20-429adfcc788a",
   "metadata": {},
   "outputs": [
    {
     "name": "stdout",
     "output_type": "stream",
     "text": [
      "['Peter', 1.78, 'Louis', 1.65, 'Chris', 1.75, 'meg', 1.6, 'Stewie', 1.3, 'Brian', 0.9]\n",
      "<class 'list'>\n"
     ]
    }
   ],
   "source": [
    "#list types and operations\n",
    "    #when manipulating \"big data\" using a list '[]'instead of various variables\n",
    "height1=185\n",
    "height2=167\n",
    "height3=157  #saving as variables\n",
    "[185,167,157]  #saving as list\n",
    "fam_height=[185,167,157]  #data structure can be refrenced with a variable \n",
    "\n",
    "    #list in python example and characteristics\n",
    "l=[20,'Jessa', 35.75,[30,60,90]]  #ordered, changeable, heterogeneous, contains duplicate\n",
    "fam_1=['Peter',1.78,'Louis',1.65,'Chris',1.75,'meg',1.60,'Stewie',1.30,'Brian',0.90] #include str and float\n",
    "print(fam_1)\n",
    "print(type(fam_1))"
   ]
  },
  {
   "cell_type": "code",
   "execution_count": 72,
   "id": "8bdd9d5f-c624-4407-8f63-23497d0aaa58",
   "metadata": {},
   "outputs": [
    {
     "name": "stdout",
     "output_type": "stream",
     "text": [
      "0\n",
      "3\n",
      "9\n",
      "[0, 1, 2, 3, 4, 5, 6, 7, 8, 9]\n",
      "[1, 2, 3]\n",
      "[0, 1, 2, 3, 4, 5, 6, 7, 8, 9]\n",
      "[0, 1, 2, 3]\n",
      "['Louis', 1.65]\n",
      "Brian 0.9\n",
      "['Brian', 0.9]\n"
     ]
    }
   ],
   "source": [
    "#subsetting list, list slicing\n",
    "    #subsetting: using index to do this. \n",
    "        #start at 0 -> called 0-indexing; if index is negative -> count backward\n",
    "    #slicing: select multiple elements from a list [start(inclusive):end(exclusive)] \":\"\n",
    "list=[0,1,2,3,4,5,6,7,8,9]\n",
    "print(list[0])\n",
    "print(list[3])\n",
    "print(list[-1])\n",
    "print(list[:])\n",
    "print(list[1:4])\n",
    "print(list[0:])\n",
    "print(list[:4])\n",
    "print(fam_1[2:4])\n",
    "print(fam_1[-2],fam_1[-1])\n",
    "print(fam_1[10:])"
   ]
  },
  {
   "cell_type": "code",
   "execution_count": 80,
   "id": "33242bc9-c240-4806-8672-4ec186a20f23",
   "metadata": {},
   "outputs": [],
   "source": [
    "#list manipulation-change, add and remove list eliments\n",
    "list=[1,2,3,4,5,6,7,8,9]"
   ]
  },
  {
   "cell_type": "code",
   "execution_count": 109,
   "id": "245e365b-94a2-4f05-bd8f-6c554e37f109",
   "metadata": {},
   "outputs": [
    {
     "data": {
      "text/plain": [
       "2"
      ]
     },
     "execution_count": 109,
     "metadata": {},
     "output_type": "execute_result"
    }
   ],
   "source": [
    "list.index(2) #return the index of passed items"
   ]
  },
  {
   "cell_type": "code",
   "execution_count": 156,
   "id": "97fdd417-a8f5-46d4-aa5b-f16c768a039f",
   "metadata": {},
   "outputs": [
    {
     "name": "stdout",
     "output_type": "stream",
     "text": [
      "[0.1, 0.5, 0.5, 0.5, 3, 4, 5, 6, 7, 8, 9, 1, 1, 11, 12, 10, 11, 12]\n"
     ]
    }
   ],
   "source": [
    "list[0]=0.1 #change typical index value\n",
    "print(list)"
   ]
  },
  {
   "cell_type": "code",
   "execution_count": 158,
   "id": "55a71389-b970-4793-99ff-bfe9fe85c90a",
   "metadata": {},
   "outputs": [
    {
     "name": "stdout",
     "output_type": "stream",
     "text": [
      "[0.1, 0.5, 0.5, 0.5, 3, 4, 5, 6, 7, 8, 9, 1, 1, 11, 12, 10, 11, 12, 10]\n"
     ]
    }
   ],
   "source": [
    "list.append(10) #adds the passed items at the end of list\n",
    "print(list)"
   ]
  },
  {
   "cell_type": "code",
   "execution_count": 160,
   "id": "b88d5457-89ab-4573-990f-d46f7bec8ae6",
   "metadata": {},
   "outputs": [
    {
     "name": "stdout",
     "output_type": "stream",
     "text": [
      "[0.1, 0.5, 0.5, 0.5, 3, 4, 5, 6, 7, 8, 9, 1, 1, 11, 12, 10, 11, 12, 10, 10, 11, 12]\n"
     ]
    }
   ],
   "source": [
    "list.extend([10,11,12]) #append the list at the end of the list\n",
    "print (list)"
   ]
  },
  {
   "cell_type": "code",
   "execution_count": 162,
   "id": "3bcc9a22-28b0-4912-a0f4-3da16076be2f",
   "metadata": {},
   "outputs": [
    {
     "name": "stdout",
     "output_type": "stream",
     "text": [
      "[0.1, 0.5, 0.5, 0.5, 0.5, 3, 4, 5, 6, 7, 8, 9, 1, 1, 11, 12, 10, 11, 12, 10, 10, 11, 12]\n"
     ]
    }
   ],
   "source": [
    "list.insert(1,0.5) #insert the passed element at the passed position\n",
    "print(list)"
   ]
  },
  {
   "cell_type": "code",
   "execution_count": 196,
   "id": "3b786fa6-b26e-496b-99a9-81a8367b25d4",
   "metadata": {},
   "outputs": [
    {
     "name": "stdout",
     "output_type": "stream",
     "text": [
      "[0.1, 0.5, 0.5, 0.5, 0.5, 3, 4, 5, 6, 7, 1, 1, 11, 12, 10, 11, 12, 10, 10, 11, 12]\n"
     ]
    }
   ],
   "source": [
    "list.pop(10) #delete and return the element of passed index\n",
    "print(list)"
   ]
  },
  {
   "cell_type": "code",
   "execution_count": 150,
   "id": "d8972cdc-7b29-4c99-978c-b2dd9008e8b4",
   "metadata": {},
   "outputs": [
    {
     "name": "stdout",
     "output_type": "stream",
     "text": [
      "[0, 0.5, 0.5, 0.5, 3, 4, 5, 6, 7, 8, 9, 1, 1, 11, 12, 10, 11, 12]\n"
     ]
    }
   ],
   "source": [
    "list.remove(10) #delete the first occurence of passed value but not return deleted value\n",
    "print(list)"
   ]
  },
  {
   "cell_type": "code",
   "execution_count": 232,
   "id": "202b1792-d179-4470-922a-d05edd4b343c",
   "metadata": {},
   "outputs": [
    {
     "name": "stdout",
     "output_type": "stream",
     "text": [
      "[11.25, 18.0, 20.0, 10.75, 9.5]\n"
     ]
    }
   ],
   "source": [
    "#practise:\n",
    "hall=11.25\n",
    "kit=18.0\n",
    "liv=20.0\n",
    "bed=10.75\n",
    "bath=9.5\n",
    "area=[hall,kit,liv,bed,bath]\n",
    "print(area)"
   ]
  },
  {
   "cell_type": "code",
   "execution_count": 332,
   "id": "b6f1c58b-2f67-4dfa-815a-80e199f88011",
   "metadata": {},
   "outputs": [
    {
     "name": "stdout",
     "output_type": "stream",
     "text": [
      "['hallway', 11.25, 'kitchen', 18.0, 'livingroom', 20.0, 'bedroom', 10.75, 'bathroom', 9.5]\n",
      "['hallway', 11.25]\n",
      "['bathroom', 9.5]\n",
      "['kitchen', 18.0]\n",
      "['facilities', 27.5]\n",
      "27.5\n",
      "Livingroom and bedroom: 30.75\n",
      "downstair: 49.25 upstair: 20.25\n",
      "['hallway', 11.25, 'kitchen', 18.0, 'chill zoom', 20.0, 'bedroom', 10.75, 'bathroom', 9.5]\n",
      "['hallway', 11.25, 'kitchen', 18.0, 'livingroom', 20.0, 'bedroom', 10.75, 'bathroom', 9.5]\n",
      "['hallway', 11.25, 'kitchen', 18.0]\n",
      "['hallway', 11.25, 'kitchen', 11.0, 'livingroom', 20.0, 'bedroom', 10.75, 'bathroom', 9.5]\n"
     ]
    }
   ],
   "source": [
    "#==1== extand the form \n",
    "Area=['hallway',hall,'kitchen',kit,'livingroom',liv,'bedroom',bed,'bathroom',bath]\n",
    "print(Area)\n",
    "\n",
    "#==2==select areas of hallway/bathroom/kitchen\n",
    "print(Area[0:2])\n",
    "Area.index('bathroom')\n",
    "print(Area[8:10])\n",
    "print(Area[2:4])\n",
    "\n",
    "#==3==sum of kitchen and bath/living and bed\n",
    "facilities=kit+bath\n",
    "Area_d=Area+['facilities',facilities]\n",
    "Area_d.index('facilities')\n",
    "print(Area_d[10:])\n",
    "facility=Area[3]+Area[9]\n",
    "print(facility) #or caluculate the index_sum\n",
    "print('Livingroom and bedroom:',Area[5]+Area[7])\n",
    "\n",
    "#==4==h,k,l are downstair, l,b are upstair print the areas of 1st and 2nd floor\n",
    "downstair=Area[1]+Area[3]+Area[5]\n",
    "upstair=Area[7]+Area[9]\n",
    "print('downstair:',downstair,'upstair:',upstair)\n",
    "\n",
    "#==5==edit living room as 'chill zoom'\n",
    "#Create a copy of Area to avoid modifying the original list\n",
    "Area_rename = Area.copy()  # Use .copy() to create a new list object\n",
    "Area_rename[4] = 'chill zoom'\n",
    "print(Area_rename)  # This will show the modified list with 'chill zoom'\n",
    "Area[4] = 'livingroom'  # This now only affects the original list\n",
    "print(Area)  # This will show the original list with 'livingroom'\n",
    "\n",
    "#==6== slicing hallway and kitchen\n",
    "print(Area[:4])\n",
    "\n",
    "#==7==update kitchen to 11.0\n",
    "Area_update=Area.copy()\n",
    "Area.index(kit)\n",
    "Area_update[3]=11.0\n",
    "print(Area_update)"
   ]
  },
  {
   "cell_type": "code",
   "execution_count": null,
   "id": "5560cf83-6327-43b2-8fea-cc1520dd1294",
   "metadata": {},
   "outputs": [],
   "source": []
  }
 ],
 "metadata": {
  "kernelspec": {
   "display_name": "Python [conda env:base] *",
   "language": "python",
   "name": "conda-base-py"
  },
  "language_info": {
   "codemirror_mode": {
    "name": "ipython",
    "version": 3
   },
   "file_extension": ".py",
   "mimetype": "text/x-python",
   "name": "python",
   "nbconvert_exporter": "python",
   "pygments_lexer": "ipython3",
   "version": "3.12.7"
  }
 },
 "nbformat": 4,
 "nbformat_minor": 5
}
